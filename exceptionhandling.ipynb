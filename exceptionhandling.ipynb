{
  "nbformat": 4,
  "nbformat_minor": 0,
  "metadata": {
    "colab": {
      "provenance": []
    },
    "kernelspec": {
      "name": "python3",
      "display_name": "Python 3"
    },
    "language_info": {
      "name": "python"
    }
  },
  "cells": [
    {
      "cell_type": "markdown",
      "source": [
        "**1 What is the difference between interpreted and compiled languages ?**"
      ],
      "metadata": {
        "id": "O3PDOr2N9IW2"
      }
    },
    {
      "cell_type": "markdown",
      "source": [],
      "metadata": {
        "id": "3kcqUNuAMmQn"
      }
    },
    {
      "cell_type": "markdown",
      "source": [
        "Ans:A compiled language is converted into machine code so that the processor can execute it. An interpreted language is a language in which the implementations execute instructions directly without earlier compiling a program into machine language. The compiled programs run faster than interpreted programs."
      ],
      "metadata": {
        "id": "dQS4qtlX9UYE"
      }
    },
    {
      "cell_type": "markdown",
      "source": [
        "**2 What is exception handling in Python ?**"
      ],
      "metadata": {
        "id": "TEl98uWg9uIM"
      }
    },
    {
      "cell_type": "markdown",
      "source": [
        "Ans:In Python, exception handling is the process of responding to errors that occur during program execution. It allows programs to continue running smoothly and avoid crashing."
      ],
      "metadata": {
        "id": "trJc98OZ97g1"
      }
    },
    {
      "cell_type": "markdown",
      "source": [
        "**3 What is the purpose of the finally block in exception handling?**"
      ],
      "metadata": {
        "id": "C4rVHW---L-F"
      }
    },
    {
      "cell_type": "markdown",
      "source": [
        "The purpose of the finally block in exception handling is to ensure that certain code, often cleanup tasks like closing files or releasing resources, is executed regardless of whether an exception was thrown or caught in the try block. This guarantees that crucial operations, such as releasing resources, always occur, even in the presence of exceptions, preventing potential resource leaks and ensuring program stability."
      ],
      "metadata": {
        "id": "nZSB8g4X-ZzU"
      }
    },
    {
      "cell_type": "markdown",
      "source": [
        "** 4.What is logging in Python?**"
      ],
      "metadata": {
        "id": "8U3_qSs--nMj"
      }
    },
    {
      "cell_type": "markdown",
      "source": [
        "ans:Python logging is a module that allows you to track events that occur while your program is running. You can use logging to record information about errors, warnings, and other events that occur during program execution. And logging is a useful tool for debugging, troubleshooting, and monitoring your program"
      ],
      "metadata": {
        "id": "wszuJR3B-up0"
      }
    },
    {
      "cell_type": "markdown",
      "source": [
        "**5 What is the significance of the __del__ method in Python?**"
      ],
      "metadata": {
        "id": "9I63eAYY-95r"
      }
    },
    {
      "cell_type": "markdown",
      "source": [
        "Ans:In Python, the __del__() method is referred to as a destructor method. It is called after an object's garbage collection occurs, which happens after all references to the item have been destroyed."
      ],
      "metadata": {
        "id": "9F2HYMPE_ZBH"
      }
    },
    {
      "cell_type": "markdown",
      "source": [
        "**6. What is the difference between import and from ... import in Python?**"
      ],
      "metadata": {
        "id": "zMLckeB3_r1c"
      }
    },
    {
      "cell_type": "markdown",
      "source": [
        "Ans:The difference between import and from import in Python is: import imports an entire code library. from import imports a specific member or members of the library."
      ],
      "metadata": {
        "id": "EL4lUtHb_2Kk"
      }
    },
    {
      "cell_type": "markdown",
      "source": [
        "** 7How can you handle multiple exceptions in Python?**"
      ],
      "metadata": {
        "id": "s6cEyTtPAC7f"
      }
    },
    {
      "cell_type": "markdown",
      "source": [
        "Ans:Python allows you to catch multiple exceptions in a single 'except' block by specifying them as a tuple. This feature is useful when different exceptions require similar handling logic. In this case, if either 'ExceptionType1' or 'ExceptionType2' is raised, the code within the 'except' block will be executed."
      ],
      "metadata": {
        "id": "8uSr5AyMAJbr"
      }
    },
    {
      "cell_type": "markdown",
      "source": [
        "**8 What is the purpose of the with statement when handling files in Python?**"
      ],
      "metadata": {
        "id": "gC5u0uBeAcg0"
      }
    },
    {
      "cell_type": "markdown",
      "source": [
        "Ans:The purpose of the with statement in Python file handling is to streamline resource management, ensuring files are opened and closed automatically, and that the code within the with block executes even if exceptions are raised. This simplifies file operations and reduces the risk of resource leaks."
      ],
      "metadata": {
        "id": "XGApAHv9AkXr"
      }
    },
    {
      "cell_type": "markdown",
      "source": [
        "** 9.What is the difference between multithreading and multiprocessing?**"
      ],
      "metadata": {
        "id": "Up0BzAHZAy8j"
      }
    },
    {
      "cell_type": "markdown",
      "source": [
        "Ans:Multithreading allows multiple threads to share the same memory space within a single process, while multiprocessing involves multiple processes with their own memory spaces.\n"
      ],
      "metadata": {
        "id": "pp4H5mt9A5Rb"
      }
    },
    {
      "cell_type": "markdown",
      "source": [
        "**10 What are the advantages of using logging in a program?**"
      ],
      "metadata": {
        "id": "5Bjp51QxBSor"
      }
    },
    {
      "cell_type": "markdown",
      "source": [
        "Ans:Logging in a program offers numerous advantages, primarily facilitating debugging, monitoring application behavior, and enhancing security. It helps developers understand what's happening within their applications, especially when issues arise, and provides a record of activity for auditing and compliance.\n",
        "\n"
      ],
      "metadata": {
        "id": "vJsHCKpbBemz"
      }
    },
    {
      "cell_type": "markdown",
      "source": [
        "**11 What is memory management in Python?**"
      ],
      "metadata": {
        "id": "bA3EhhIzBpRj"
      }
    },
    {
      "cell_type": "markdown",
      "source": [
        "Ans:Memory management in Python involves a private heap containing all Python objects and data structures. The management of this private heap is ensured internally by the Python memory manager."
      ],
      "metadata": {
        "id": "Y-lJWNB3B1bV"
      }
    },
    {
      "cell_type": "markdown",
      "source": [
        "** 12.What are the basic steps involved in exception handling in Python?**"
      ],
      "metadata": {
        "id": "sJgq7IuHCKQT"
      }
    },
    {
      "cell_type": "markdown",
      "source": [
        "Ans:In Python, exception handling is managed using try, except, else, and finally blocks. The try block contains code that might raise an exception. If an exception occurs, control jumps to the corresponding except block, which handles the error. If no exception occurs, the else block (optional) is executed. The finally block (also optional) ensures code is executed regardless of whether an exception occurred or not."
      ],
      "metadata": {
        "id": "4iePbnSFCRND"
      }
    },
    {
      "cell_type": "markdown",
      "source": [
        "**13. Why is memory management important in Python?**"
      ],
      "metadata": {
        "id": "DeG8YgofCiFE"
      }
    },
    {
      "cell_type": "markdown",
      "source": [
        "Ans:Without proper memory management, you can face challenges while building these applications, as effective memory allocation is necessary in order to avoid problems that can arise when you run out of memory, such as memory leaks."
      ],
      "metadata": {
        "id": "TmdS52CfCrF8"
      }
    },
    {
      "cell_type": "markdown",
      "source": [
        "** 14.What is the role of try and except in exception handling?**"
      ],
      "metadata": {
        "id": "jrP6sXKzC4jl"
      }
    },
    {
      "cell_type": "markdown",
      "source": [
        "Ans:try block:-f\n",
        "\n",
        "\n",
        "This block encloses the code that could potentially cause an exception. If an error occurs while executing the code within this block, the program will immediately proceed to the except block.-f\n",
        "\n",
        "\n",
        "except block:-f\n",
        "\n",
        "\n",
        "This block is executed only when an exception of the specified type (or a general exception) is raised in the preceding try block. It provides instructions on how to handle the exception, such as printing an error message, logging the error, or attempting to recover from the error."
      ],
      "metadata": {
        "id": "wATLihYZDjtV"
      }
    },
    {
      "cell_type": "markdown",
      "source": [
        "**15 How does Python's garbage collection system work?**"
      ],
      "metadata": {
        "id": "rrrjfPQ-EDeT"
      }
    },
    {
      "cell_type": "markdown",
      "source": [
        "Ans:Python uses a hybrid approach for garbage collection: reference counting and generational garbage collection. Reference counting identifies objects with no active references and frees their memory immediately. Generational garbage collection uses a mark-and-sweep algorithm to identify and collect objects that are no longer reachable, particularly addressing issues with circular references."
      ],
      "metadata": {
        "id": "9AcvBT-5ERbE"
      }
    },
    {
      "cell_type": "markdown",
      "source": [
        "**16. What is the purpose of the else block in exception handling?**"
      ],
      "metadata": {
        "id": "N_A66Dk_FdxN"
      }
    },
    {
      "cell_type": "markdown",
      "source": [
        "Ans:The else keyword is used in conditional statements (if statements), and decides what to do if the condition is False."
      ],
      "metadata": {
        "id": "024sTgLpFmbE"
      }
    },
    {
      "cell_type": "markdown",
      "source": [
        "**17.What are the common logging levels in Python?**"
      ],
      "metadata": {
        "id": "jZUX8iJtF6KU"
      }
    },
    {
      "cell_type": "markdown",
      "source": [
        "Ans:Python logging supports multiple levels of severity, such as DEBUG , INFO , WARNING , ERROR , and CRITICAL , allowing you to categorize and filter log messages effectively. DEBUG."
      ],
      "metadata": {
        "id": "llgpazpeGCks"
      }
    },
    {
      "cell_type": "markdown",
      "source": [
        "** 18.What is the difference between os.fork() and multiprocessing in Python?**"
      ],
      "metadata": {
        "id": "wnR4d6EjGTF1"
      }
    },
    {
      "cell_type": "markdown",
      "source": [
        "Ans:The term process refers to a program that is in its execution mode. Here, fork() acts as a system call that helps in creating processes."
      ],
      "metadata": {
        "id": "5zyfDPpRGZyz"
      }
    },
    {
      "cell_type": "markdown",
      "source": [
        "** 19.What is the importance of closing a file in Python?**"
      ],
      "metadata": {
        "id": "zxSet7BAG0aD"
      }
    },
    {
      "cell_type": "markdown",
      "source": [
        "Ans: Closing files in Python is an essential practice that helps maintain data integrity, prevent resource leaks, and ensure the reliability of your applications. By mastering file handling techniques, you can write more robust and efficient Python code that effectively manages file resources."
      ],
      "metadata": {
        "id": "ZagKsA9sG-DE"
      }
    },
    {
      "cell_type": "markdown",
      "source": [
        "** 20.What is the difference between file.read() and file.readline() in Python?**"
      ],
      "metadata": {
        "id": "C0b0B_q0HTjE"
      }
    },
    {
      "cell_type": "markdown",
      "source": [
        "In Python, file.read() reads the entire file content as a single string, while file.readline() reads a single line from the file and returns it as a string"
      ],
      "metadata": {
        "id": "9F1r-VV0Hl_8"
      }
    },
    {
      "cell_type": "markdown",
      "source": [
        "** 21.What is the logging module in Python used foR?**"
      ],
      "metadata": {
        "id": "lRQrfbuRHuJT"
      }
    },
    {
      "cell_type": "markdown",
      "source": [
        "Ans:The logging module in Python is a tool used to record events that occur during the execution of a program."
      ],
      "metadata": {
        "id": "S1Zh-s1uH5PO"
      }
    },
    {
      "cell_type": "markdown",
      "source": [
        "** 22.What is the os module in Python used for in file handling?**"
      ],
      "metadata": {
        "id": "MqXR-ANzIGIk"
      }
    },
    {
      "cell_type": "markdown",
      "source": [
        "Ans:Python has a built-in os module with methods for interacting with the operating system, like creating files and directories, management of files and directories, input, output, environment variables, process management, etc."
      ],
      "metadata": {
        "id": "eaTK2DOmIU2U"
      }
    },
    {
      "cell_type": "markdown",
      "source": [
        "23 What are the challenges associated with memory management in Python?\n",
        "**bold text**"
      ],
      "metadata": {
        "id": "IN2P6fPIIsQM"
      }
    },
    {
      "cell_type": "markdown",
      "source": [
        "Ans:Python's memory management, while generally automated, presents challenges like memory leaks, performance overhead due to reference counting, and the potential for memory fragmentation"
      ],
      "metadata": {
        "id": "EGqdmAIGJAL0"
      }
    },
    {
      "cell_type": "markdown",
      "source": [
        "**24. How do you raise an exception manually in Python?**"
      ],
      "metadata": {
        "id": "gdDnwRnKJZEj"
      }
    },
    {
      "cell_type": "markdown",
      "source": [
        "Ans:As a Python developer you can choose to throw an exception if a condition occurs.\n",
        "\n",
        "To throw  an exception, use the raise keyword."
      ],
      "metadata": {
        "id": "6j4MuVf2JgxU"
      }
    },
    {
      "cell_type": "markdown",
      "source": [
        "**25. Why is it important to use multithreading in certain applications?**"
      ],
      "metadata": {
        "id": "Rl0qUCnYJ23j"
      }
    },
    {
      "cell_type": "markdown",
      "source": [
        "Ans:. 1.Improved Performance\n",
        "Parallel execution: If your application runs on a multi-core CPU, threads can be run in parallel, making full use of system resources.\n",
        "\n",
        "Ideal for CPU-bound tasks (e.g., calculations, simulations).\n",
        "\n",
        "2. Better Responsiveness\n",
        "In GUI applications, using a separate thread for long-running tasks ensures the interface remains responsive to user actions."
      ],
      "metadata": {
        "id": "d57H30v3J-ID"
      }
    },
    {
      "cell_type": "markdown",
      "source": [
        "**practical questions**"
      ],
      "metadata": {
        "id": "GZqcKjJGMvAa"
      }
    },
    {
      "cell_type": "markdown",
      "source": [
        "** 1.How can you open a file for writing in Python and write a string to it?**"
      ],
      "metadata": {
        "id": "3wy-3OYTM1gw"
      }
    },
    {
      "cell_type": "code",
      "source": [
        "with open('example.txt', 'w') as file:\n",
        "   file.write('Hello, world!')"
      ],
      "metadata": {
        "id": "iohenIFrNGB5"
      },
      "execution_count": 1,
      "outputs": []
    },
    {
      "cell_type": "markdown",
      "source": [
        "** 2.Write a Python program to read the contents of a file and print each line.**"
      ],
      "metadata": {
        "id": "pK1SEB-PNpQC"
      }
    },
    {
      "cell_type": "code",
      "source": [
        "with open('example.txt', 'r') as file:\n",
        "   for line in file:\n",
        "     print(line)"
      ],
      "metadata": {
        "colab": {
          "base_uri": "https://localhost:8080/"
        },
        "id": "DX1Ej2QsNvro",
        "outputId": "9f9da170-8763-41f4-92d2-7cf584564f2d"
      },
      "execution_count": 2,
      "outputs": [
        {
          "output_type": "stream",
          "name": "stdout",
          "text": [
            "Hello, world!\n"
          ]
        }
      ]
    },
    {
      "cell_type": "markdown",
      "source": [
        "** How would you handle a case where the file doesn't exist while trying to open it for reading.**"
      ],
      "metadata": {
        "id": "wJhON-EVOSWB"
      }
    },
    {
      "cell_type": "code",
      "source": [
        "try:\n",
        "    with open('shweta.txt', 'r') as file:\n",
        "        for line in file:\n",
        "            print(line, end='')\n",
        "except FileNotFoundError:\n",
        "    print(\"The file does not exist.\")"
      ],
      "metadata": {
        "colab": {
          "base_uri": "https://localhost:8080/"
        },
        "id": "ukW_dOWROart",
        "outputId": "dff1a094-d48e-4463-a10e-11651d5ab39f"
      },
      "execution_count": 3,
      "outputs": [
        {
          "output_type": "stream",
          "name": "stdout",
          "text": [
            "The file does not exist.\n"
          ]
        }
      ]
    },
    {
      "cell_type": "markdown",
      "source": [
        "**Write a Python script that reads from one file and writes its content to another file.**"
      ],
      "metadata": {
        "id": "wC2Yw_59Qj1O"
      }
    },
    {
      "cell_type": "code",
      "source": [
        "try:\n",
        "    # Open the source file for reading\n",
        "    with open(source_file, 'r') as src:\n",
        "        # Open the destination file for writing\n",
        "        with open(destination_file, 'w') as dest:\n",
        "            # Read content from source and write to destination\n",
        "            for line in src:\n",
        "                dest.write(line)\n",
        "    print(\"File copied successfully.\")\n",
        "except FileNotFoundError:\n",
        "    print(f\"The file '{source_file}' does not exist.\")\n",
        "except Exception as e:\n",
        "    print(f\"An error occurred: {e}\")"
      ],
      "metadata": {
        "colab": {
          "base_uri": "https://localhost:8080/"
        },
        "id": "ZvZiPonhQqgm",
        "outputId": "04c974a1-3dac-408a-8cc4-c59a6eb86a59"
      },
      "execution_count": 4,
      "outputs": [
        {
          "output_type": "stream",
          "name": "stdout",
          "text": [
            "An error occurred: name 'source_file' is not defined\n"
          ]
        }
      ]
    },
    {
      "cell_type": "markdown",
      "source": [
        "** How would you catch and handle division by zero error in Python.**"
      ],
      "metadata": {
        "id": "jyi97qzyQ2Wm"
      }
    },
    {
      "cell_type": "code",
      "source": [
        "try:\n",
        "    result = 10 / 0\n",
        "except ZeroDivisionError:\n",
        "    print(\"You can't divide by zero!\")\n",
        "else:\n",
        "    print(\"Division successful. Result:\", result)\n",
        "finally:\n",
        "    print(\"always run.\")"
      ],
      "metadata": {
        "colab": {
          "base_uri": "https://localhost:8080/"
        },
        "id": "AbrYtQNuQ6Cn",
        "outputId": "aaa32f9a-2660-4a2c-c0f7-0a76b83317f4"
      },
      "execution_count": 5,
      "outputs": [
        {
          "output_type": "stream",
          "name": "stdout",
          "text": [
            "You can't divide by zero!\n",
            "always run.\n"
          ]
        }
      ]
    },
    {
      "cell_type": "markdown",
      "source": [
        "** Write a Python program that logs an error message to a log file when a division by zero exception occurs**"
      ],
      "metadata": {
        "id": "kbrWnlNYRLoX"
      }
    },
    {
      "cell_type": "code",
      "source": [
        "import logging\n",
        "\n",
        "# Configure logging\n",
        "logging.basicConfig(\n",
        "    filename='error_log.txt',      # Log file name\n",
        "    level=logging.ERROR,           # Log only errors and above\n",
        "    format='%(asctime)s - %(levelname)s - %(message)s'  # Log format\n",
        ")\n",
        "\n",
        "# Function that may cause division by zero\n",
        "def divide(a, b):\n",
        "    try:\n",
        "        result = a / b\n",
        "        print(\"Result:\", result)\n",
        "    except ZeroDivisionError as e:\n",
        "        logging.error(\"Division by zero error: %s\", e)\n",
        "        print(\"Error: Cannot divide by zero.\")\n",
        "\n",
        "# Example usage\n",
        "divide(10, 0)\n"
      ],
      "metadata": {
        "colab": {
          "base_uri": "https://localhost:8080/"
        },
        "id": "MbvJMXXoRSCW",
        "outputId": "e81c16a8-b0c8-466e-e011-14afbb8d1596"
      },
      "execution_count": 6,
      "outputs": [
        {
          "output_type": "stream",
          "name": "stderr",
          "text": [
            "ERROR:root:Division by zero error: division by zero\n"
          ]
        },
        {
          "output_type": "stream",
          "name": "stdout",
          "text": [
            "Error: Cannot divide by zero.\n"
          ]
        }
      ]
    },
    {
      "cell_type": "markdown",
      "source": [
        " How do you log information at different levels (INFO, ERROR, WARNING) in Python using the logging module\n",
        "\n"
      ],
      "metadata": {
        "id": "8QkrlglGR5aY"
      }
    },
    {
      "cell_type": "code",
      "source": [
        "import logging\n",
        "\n",
        "# Configure the logging system\n",
        "logging.basicConfig(\n",
        "    filename='app.log',                # Log file\n",
        "    level=logging.DEBUG,              # Minimum level to log\n",
        "    format='%(asctime)s - %(levelname)s - %(message)s'\n",
        ")\n",
        "\n",
        "# Log messages at different levels\n",
        "logging.debug(\"This is a debug message (used for troubleshooting).\")\n",
        "logging.info(\"This is an info message (general updates).\")\n",
        "logging.warning(\"This is a warning message (something might go wrong).\")\n",
        "logging.error(\"This is an error message (something went wrong).\")\n",
        "logging.critical(\"This is a critical message (program may not recover).\")\n"
      ],
      "metadata": {
        "colab": {
          "base_uri": "https://localhost:8080/"
        },
        "id": "gv57epFnSCgm",
        "outputId": "2a3de39b-6df3-4a37-ae6e-ee77ef6a9194"
      },
      "execution_count": 7,
      "outputs": [
        {
          "output_type": "stream",
          "name": "stderr",
          "text": [
            "WARNING:root:This is a warning message (something might go wrong).\n",
            "ERROR:root:This is an error message (something went wrong).\n",
            "CRITICAL:root:This is a critical message (program may not recover).\n"
          ]
        }
      ]
    },
    {
      "cell_type": "markdown",
      "source": [
        "** Write a program to handle a file opening error using exception handling.**"
      ],
      "metadata": {
        "id": "IwTQdjmfSNYu"
      }
    },
    {
      "cell_type": "code",
      "source": [
        "filename = 'non_existent_file.txt'\n",
        "\n",
        "try:\n",
        "    with open(filename, 'r') as file:\n",
        "        content = file.read()\n",
        "        print(content)\n",
        "except FileNotFoundError:\n",
        "    print(f\"Error: The file '{filename}' was not found.\")\n",
        "except PermissionError:\n",
        "    print(f\"Error: You do not have permission to access '{filename}'.\")\n",
        "except Exception as e:\n",
        "    print(f\"An unexpected error occurred: {e}\")\n"
      ],
      "metadata": {
        "colab": {
          "base_uri": "https://localhost:8080/"
        },
        "id": "4ppTsE8jSRzX",
        "outputId": "3bcef806-d591-468e-8c32-e84e9b3fc59f"
      },
      "execution_count": 8,
      "outputs": [
        {
          "output_type": "stream",
          "name": "stdout",
          "text": [
            "Error: The file 'non_existent_file.txt' was not found.\n"
          ]
        }
      ]
    },
    {
      "cell_type": "markdown",
      "source": [
        "How can you read a file line by line and store its content in a list in Python"
      ],
      "metadata": {
        "id": "NHiemZwaSfvm"
      }
    },
    {
      "cell_type": "code",
      "source": [
        "with open('example.txt', 'r') as file:\n",
        "    lines = file.readlines()\n",
        "\n",
        "print(lines)\n",
        "\n"
      ],
      "metadata": {
        "colab": {
          "base_uri": "https://localhost:8080/"
        },
        "id": "rQaBiuwNSkC3",
        "outputId": "2db98dce-b1f9-459f-f321-304e96cde516"
      },
      "execution_count": 11,
      "outputs": [
        {
          "output_type": "stream",
          "name": "stdout",
          "text": [
            "['Hello, world!']\n"
          ]
        }
      ]
    },
    {
      "cell_type": "markdown",
      "source": [
        "** 10.How can you append data to an existing file in Python**"
      ],
      "metadata": {
        "id": "OgLh7T5_THpQ"
      }
    },
    {
      "cell_type": "code",
      "source": [
        "with open('example.txt', 'a') as file:\n",
        "    file.write('This is a new line in the file example.\\n')"
      ],
      "metadata": {
        "id": "2FdVmUdITQQH"
      },
      "execution_count": 12,
      "outputs": []
    },
    {
      "cell_type": "markdown",
      "source": [
        " Write a Python program that uses a try-except block to handle an error when attempting to access a\n",
        "dictionary key that doesn't exist"
      ],
      "metadata": {
        "id": "50naJho9TguO"
      }
    },
    {
      "cell_type": "code",
      "source": [
        "# Sample dictionary\n",
        "person = {\n",
        "    'name': 'Alice',\n",
        "    'age': 30\n",
        "}\n",
        "\n",
        "try:\n",
        "    # Attempt to access a key that might not exist\n",
        "    print(\"Email:\", person['email'])\n",
        "except KeyError:\n",
        "    print(\"Error: The key 'email' does not exist in the dictionary.\")\n"
      ],
      "metadata": {
        "colab": {
          "base_uri": "https://localhost:8080/"
        },
        "id": "bjMRRH6zTkgw",
        "outputId": "3025aeca-dd1d-47d5-ab10-bddb94c8decc"
      },
      "execution_count": 13,
      "outputs": [
        {
          "output_type": "stream",
          "name": "stdout",
          "text": [
            "Error: The key 'email' does not exist in the dictionary.\n"
          ]
        }
      ]
    },
    {
      "cell_type": "markdown",
      "source": [
        "** Write a program that demonstrates using multiple except blocks to handle different types of exceptions**"
      ],
      "metadata": {
        "id": "YiIwkBrvTuIY"
      }
    },
    {
      "cell_type": "code",
      "source": [
        "try:\n",
        "    # User input that may cause different exceptions\n",
        "    num1 = int(input(\"Enter a number: \"))\n",
        "    num2 = int(input(\"Enter another number: \"))\n",
        "\n",
        "    result = num1 / num2\n",
        "    print(\"Result:\", result)\n",
        "\n",
        "    # Trying to access a non-existent dictionary key\n",
        "    sample_dict = {'a': 1, 'b': 2}\n",
        "    print(\"Value for key 'c':\", sample_dict['c'])\n",
        "\n",
        "except ZeroDivisionError:\n",
        "    print(\"Error: You cannot divide by zero.\")\n",
        "\n",
        "except ValueError:\n",
        "    print(\"Error: Please enter a valid number.\")\n",
        "\n",
        "except KeyError as e:\n",
        "    print(f\"Error: Key not found - {e}\")\n",
        "\n",
        "except Exception as e:\n",
        "    print(f\"An unexpected error occurred: {e}\")\n"
      ],
      "metadata": {
        "colab": {
          "base_uri": "https://localhost:8080/"
        },
        "id": "thmpH7l3TyhY",
        "outputId": "4f05b4f5-f38b-4ed8-a78f-e40263beca16"
      },
      "execution_count": 14,
      "outputs": [
        {
          "output_type": "stream",
          "name": "stdout",
          "text": [
            "Enter a number: 4\n",
            "Enter another number: 0\n",
            "Error: You cannot divide by zero.\n"
          ]
        }
      ]
    },
    {
      "cell_type": "markdown",
      "source": [
        " How would you check if a file exists before attempting to read it in Python"
      ],
      "metadata": {
        "id": "zIwkNV0iUSrP"
      }
    },
    {
      "cell_type": "code",
      "source": [
        "import os\n",
        "if os.path.exists(\"shweta.txt\"):\n",
        "  os.remove(\"shweta.txt\")\n",
        "else:\n",
        "  print(\"The file does not exist\")"
      ],
      "metadata": {
        "colab": {
          "base_uri": "https://localhost:8080/"
        },
        "id": "6ND8-yY0UTRQ",
        "outputId": "63b909f2-0273-4ff8-d727-cf8552ca0e2d"
      },
      "execution_count": 16,
      "outputs": [
        {
          "output_type": "stream",
          "name": "stdout",
          "text": [
            "The file does not exist\n"
          ]
        }
      ]
    },
    {
      "cell_type": "markdown",
      "source": [
        " Write a program that uses the logging module to log both informational and error messages"
      ],
      "metadata": {
        "id": "b1YQQxjXUriW"
      }
    },
    {
      "cell_type": "code",
      "source": [
        "import logging\n",
        "\n",
        "# Configure logging to write to a file\n",
        "logging.basicConfig(\n",
        "    filename='app.log',\n",
        "    level=logging.DEBUG,\n",
        "    format='%(asctime)s - %(levelname)s - %(message)s'\n",
        ")\n",
        "\n",
        "\n",
        "logging.info('This is an informational message.')\n",
        "\n",
        "\n",
        "logging.warning('This is a warning message.')\n",
        "\n",
        "\n",
        "logging.error('This is an error message.')\n",
        "\n",
        "\n",
        "logging.critical('This is a critical error.')\n",
        "\n",
        "try:\n",
        "    # Trying to divide by zero to trigger an error\n",
        "    result = 10 / 0\n",
        "except ZeroDivisionError as e:\n",
        "    logging.error(f\"Error occurred: {e}\")\n",
        "\n",
        "# Log a message after the exception handling\n",
        "logging.info('Program execution continues after handling the error.')\n"
      ],
      "metadata": {
        "colab": {
          "base_uri": "https://localhost:8080/"
        },
        "id": "Rwa_1hezUxOO",
        "outputId": "e31e38df-3b20-41c1-aa3c-0cccc8676cc6"
      },
      "execution_count": 17,
      "outputs": [
        {
          "output_type": "stream",
          "name": "stderr",
          "text": [
            "WARNING:root:This is a warning message.\n",
            "ERROR:root:This is an error message.\n",
            "CRITICAL:root:This is a critical error.\n",
            "ERROR:root:Error occurred: division by zero\n"
          ]
        }
      ]
    },
    {
      "cell_type": "markdown",
      "source": [
        " Write a Python program that prints the content of a file and handles the case when the file is empty"
      ],
      "metadata": {
        "id": "9AKoaa6wVDJv"
      }
    },
    {
      "cell_type": "code",
      "source": [
        "filename = 'example.txt'\n",
        "\n",
        "try:\n",
        "    # Open the file for reading\n",
        "    with open(filename, 'r') as file:\n",
        "        content = file.read()\n",
        "\n",
        "        if not content:  # Check if the file is empty\n",
        "            print(\"The file is empty.\")\n",
        "        else:\n",
        "            print(\"File content:\")\n",
        "            print(content)\n",
        "except FileNotFoundError:\n",
        "    print(f\"Error: The file '{filename}' was not found.\")\n",
        "except Exception as e:\n",
        "    print(f\"An unexpected error occurred: {e}\")\n"
      ],
      "metadata": {
        "colab": {
          "base_uri": "https://localhost:8080/"
        },
        "id": "4kBrcf3AVHGv",
        "outputId": "94fd5c86-83dc-4dfc-95f6-3b7e389dfe34"
      },
      "execution_count": 18,
      "outputs": [
        {
          "output_type": "stream",
          "name": "stdout",
          "text": [
            "File content:\n",
            "Hello, world!This is a new line in the file example.\n",
            "\n"
          ]
        }
      ]
    },
    {
      "cell_type": "markdown",
      "source": [
        " Demonstrate how to use memory profiling to check the memory usage of a small program"
      ],
      "metadata": {
        "id": "bG8WjNV2VOmI"
      }
    },
    {
      "cell_type": "code",
      "source": [
        "# Import the memory profiler\n",
        "from memory_profiler import profile\n",
        "\n",
        "# Decorator to profile memory usage of a function\n",
        "@profile\n",
        "def my_function():\n",
        "    # Create a list and add elements\n",
        "    my_list = []\n",
        "    for i in range(100000):\n",
        "        my_list.append(i)\n",
        "\n",
        "    # Create a dictionary and add elements\n",
        "    my_dict = {i: i * 2 for i in range(10000)}\n",
        "\n",
        "    # Print the sum of the list (just to perform an action)\n",
        "    print(sum(my_list))\n",
        "\n",
        "if __name__ == \"__main__\":\n",
        "    my_function()\n"
      ],
      "metadata": {
        "colab": {
          "base_uri": "https://localhost:8080/",
          "height": 383
        },
        "id": "LqIybSftVfMG",
        "outputId": "61f58265-f0d0-4f4b-bc20-b86425da7132"
      },
      "execution_count": 19,
      "outputs": [
        {
          "output_type": "error",
          "ename": "ModuleNotFoundError",
          "evalue": "No module named 'memory_profiler'",
          "traceback": [
            "\u001b[0;31m---------------------------------------------------------------------------\u001b[0m",
            "\u001b[0;31mModuleNotFoundError\u001b[0m                       Traceback (most recent call last)",
            "\u001b[0;32m<ipython-input-19-620141afc642>\u001b[0m in \u001b[0;36m<cell line: 0>\u001b[0;34m()\u001b[0m\n\u001b[1;32m      1\u001b[0m \u001b[0;31m# Import the memory profiler\u001b[0m\u001b[0;34m\u001b[0m\u001b[0;34m\u001b[0m\u001b[0m\n\u001b[0;32m----> 2\u001b[0;31m \u001b[0;32mfrom\u001b[0m \u001b[0mmemory_profiler\u001b[0m \u001b[0;32mimport\u001b[0m \u001b[0mprofile\u001b[0m\u001b[0;34m\u001b[0m\u001b[0;34m\u001b[0m\u001b[0m\n\u001b[0m\u001b[1;32m      3\u001b[0m \u001b[0;34m\u001b[0m\u001b[0m\n\u001b[1;32m      4\u001b[0m \u001b[0;31m# Decorator to profile memory usage of a function\u001b[0m\u001b[0;34m\u001b[0m\u001b[0;34m\u001b[0m\u001b[0m\n\u001b[1;32m      5\u001b[0m \u001b[0;34m@\u001b[0m\u001b[0mprofile\u001b[0m\u001b[0;34m\u001b[0m\u001b[0;34m\u001b[0m\u001b[0m\n",
            "\u001b[0;31mModuleNotFoundError\u001b[0m: No module named 'memory_profiler'",
            "",
            "\u001b[0;31m---------------------------------------------------------------------------\u001b[0;32m\nNOTE: If your import is failing due to a missing package, you can\nmanually install dependencies using either !pip or !apt.\n\nTo view examples of installing some common dependencies, click the\n\"Open Examples\" button below.\n\u001b[0;31m---------------------------------------------------------------------------\u001b[0m\n"
          ],
          "errorDetails": {
            "actions": [
              {
                "action": "open_url",
                "actionText": "Open Examples",
                "url": "/notebooks/snippets/importing_libraries.ipynb"
              }
            ]
          }
        }
      ]
    },
    {
      "cell_type": "markdown",
      "source": [
        "\n",
        " Write a Python program to create and write a list of numbers to a file, one number per line"
      ],
      "metadata": {
        "id": "cd1h1nsTV7q4"
      }
    },
    {
      "cell_type": "code",
      "source": [
        "# List of numbers\n",
        "numbers = [1, 2, 3, 4, 5, 6, 7, 8, 9, 10]\n",
        "with open('numbers.txt', 'w') as file:\n",
        "    for number in numbers:\n",
        "        file.write(f\"{number}\\n\")\n",
        "\n",
        "print(\"Numbers have been written to 'numbers.txt'.\")\n"
      ],
      "metadata": {
        "colab": {
          "base_uri": "https://localhost:8080/"
        },
        "id": "5eZ5smtNV_OH",
        "outputId": "2c7ba5fd-03d5-4f26-8b95-10eb123960e3"
      },
      "execution_count": 20,
      "outputs": [
        {
          "output_type": "stream",
          "name": "stdout",
          "text": [
            "Numbers have been written to 'numbers.txt'.\n"
          ]
        }
      ]
    },
    {
      "cell_type": "markdown",
      "source": [
        " How would you implement a basic logging setup that logs to a file with rotation after 1MB"
      ],
      "metadata": {
        "id": "SwKFZm5SWLNP"
      }
    },
    {
      "cell_type": "code",
      "source": [
        "import logging\n",
        "from logging.handlers import RotatingFileHandler\n",
        "\n",
        "# Set up logging with rotation\n",
        "log_filename = 'app.log'\n",
        "\n",
        "# Create a rotating file handler that rotates when the log file reaches 1MB (1048576 bytes)\n",
        "handler = RotatingFileHandler(log_filename, maxBytes=1048576, backupCount=3)\n",
        "\n",
        "# Create a formatter and attach it to the handler\n",
        "formatter = logging.Formatter('%(asctime)s - %(levelname)s - %(message)s')\n",
        "handler.setFormatter(formatter)\n",
        "\n",
        "# Create a logger and set its level\n",
        "logger = logging.getLogger()\n",
        "logger.setLevel(logging.DEBUG)  # Log all messages at DEBUG level and above\n",
        "logger.addHandler(handler)\n",
        "\n",
        "# Example logging messages\n",
        "logger.debug('This is a debug message')\n",
        "logger.info('This is an info message')\n",
        "logger.warning('This is a warning message')\n",
        "logger.error('This is an error message')\n",
        "logger.critical('This is a critical message')\n",
        "\n",
        "print(\"Logging setup complete. Check the log file 'app.log'.\")\n",
        "\n"
      ],
      "metadata": {
        "colab": {
          "base_uri": "https://localhost:8080/"
        },
        "id": "w6feb6ZVWPNW",
        "outputId": "6ebff5da-db67-42a0-a8f4-d5023faf731a"
      },
      "execution_count": 21,
      "outputs": [
        {
          "output_type": "stream",
          "name": "stderr",
          "text": [
            "DEBUG:root:This is a debug message\n",
            "INFO:root:This is an info message\n",
            "WARNING:root:This is a warning message\n",
            "ERROR:root:This is an error message\n",
            "CRITICAL:root:This is a critical message\n"
          ]
        },
        {
          "output_type": "stream",
          "name": "stdout",
          "text": [
            "Logging setup complete. Check the log file 'app.log'.\n"
          ]
        }
      ]
    },
    {
      "cell_type": "markdown",
      "source": [
        "e a program that handles both IndexError and KeyError using a try-except block"
      ],
      "metadata": {
        "id": "YzRIK2QGWWj5"
      }
    },
    {
      "cell_type": "code",
      "source": [
        "# Sample list and dictionary\n",
        "my_list = [1, 2, 3, 4, 5]\n",
        "my_dict = {'a': 1, 'b': 2, 'c': 3}\n",
        "\n",
        "try:\n",
        "    # Attempt to access an index that might be out of range\n",
        "    print(\"List element:\", my_list[10])  # This will raise IndexError\n",
        "\n",
        "    # Attempt to access a key that might not exist\n",
        "    print(\"Dictionary value:\", my_dict['d'])  # This will raise KeyError\n",
        "\n",
        "except IndexError as e:\n",
        "    print(f\"IndexError: {e} - The list index is out of range.\")\n",
        "except KeyError as e:\n",
        "    print(f\"KeyError: {e} - The key is not found in the dictionary.\")\n"
      ],
      "metadata": {
        "colab": {
          "base_uri": "https://localhost:8080/"
        },
        "id": "F35yBVBtWak3",
        "outputId": "744228a0-ce9d-4d7d-d7bd-46833ebb46db"
      },
      "execution_count": 22,
      "outputs": [
        {
          "output_type": "stream",
          "name": "stdout",
          "text": [
            "IndexError: list index out of range - The list index is out of range.\n"
          ]
        }
      ]
    },
    {
      "cell_type": "markdown",
      "source": [
        " How would you open a file and read its contents using a context manager in Python\n",
        "\n",
        "\n"
      ],
      "metadata": {
        "id": "Y5Y5zXjcWjhH"
      }
    },
    {
      "cell_type": "code",
      "source": [
        "# Open and read the file using a context manager\n",
        "with open('example.txt', 'r') as file:\n",
        "    content = file.read()\n",
        "    print(content)\n"
      ],
      "metadata": {
        "colab": {
          "base_uri": "https://localhost:8080/"
        },
        "id": "pb2ZKR5lXTcK",
        "outputId": "87e4b581-94f9-4be9-949b-fbddb45a5ad3"
      },
      "execution_count": 23,
      "outputs": [
        {
          "output_type": "stream",
          "name": "stdout",
          "text": [
            "Hello, world!This is a new line in the file example.\n",
            "\n"
          ]
        }
      ]
    },
    {
      "cell_type": "markdown",
      "source": [
        "23Write a Python program that reads a file and prints the number of occurrences of a specific word"
      ],
      "metadata": {
        "id": "N17u7pLXXoUO"
      }
    },
    {
      "cell_type": "code",
      "source": [
        "# Define the file name and the word to search\n",
        "filename = 'example.txt'\n",
        "search_word = 'python'\n",
        "\n",
        "try:\n",
        "\n",
        "    with open(filename, 'r') as file:\n",
        "        content = file.read().lower()\n",
        "\n",
        "    # Count the number of times the word appears\n",
        "    word_count = content.split().count(search_word.lower())\n",
        "\n",
        "    print(f\"The word '{search_word}' occurs {word_count} time(s) in the file.\")\n",
        "\n",
        "except FileNotFoundError:\n",
        "    print(f\"Error: The file '{filename}' was not found.\")\n",
        "except Exception as e:\n",
        "    print(f\"An error occurred: {e}\")\n"
      ],
      "metadata": {
        "colab": {
          "base_uri": "https://localhost:8080/"
        },
        "id": "KzwpBCoYXwSv",
        "outputId": "db26e083-1503-4f28-a567-13c68fb91866"
      },
      "execution_count": 24,
      "outputs": [
        {
          "output_type": "stream",
          "name": "stdout",
          "text": [
            "The word 'python' occurs 0 time(s) in the file.\n"
          ]
        }
      ]
    },
    {
      "cell_type": "markdown",
      "source": [
        " How can you check if a file is empty before attempting to read its content\n",
        ""
      ],
      "metadata": {
        "id": "qSbI95nWYHPG"
      }
    },
    {
      "cell_type": "code",
      "source": [
        "filename = 'example.txt'\n",
        "\n",
        "try:\n",
        "    with open(filename, 'r') as file:\n",
        "        content = file.read()\n",
        "        if not content:\n",
        "            print(\"The file is empty.\")\n",
        "        else:\n",
        "            print(\"File content:\")\n",
        "            print(content)\n",
        "except FileNotFoundError:\n",
        "    print(f\"Error: File '{filename}' not found.\")\n"
      ],
      "metadata": {
        "colab": {
          "base_uri": "https://localhost:8080/"
        },
        "id": "4P0upjA9YI4e",
        "outputId": "fa4bcb84-59a7-4b86-a95d-c398db91bc90"
      },
      "execution_count": 26,
      "outputs": [
        {
          "output_type": "stream",
          "name": "stdout",
          "text": [
            "File content:\n",
            "Hello, world!This is a new line in the file example.\n",
            "\n"
          ]
        }
      ]
    },
    {
      "cell_type": "markdown",
      "source": [
        "Write a Python program that writes to a log file when an error occurs during file handling."
      ],
      "metadata": {
        "id": "J8qvInEaYpm2"
      }
    },
    {
      "cell_type": "code",
      "source": [
        "import logging\n",
        "\n",
        "# Set up logging to write errors to a log file\n",
        "logging.basicConfig(\n",
        "    filename='file_errors.log',\n",
        "    level=logging.ERROR,\n",
        "    format='%(asctime)s - %(levelname)s - %(message)s'\n",
        ")\n",
        "\n",
        "filename = 'non_existent_file.txt'  # Intentionally using a file that may not exist\n",
        "\n",
        "try:\n",
        "    with open(filename, 'r') as file:\n",
        "        content = file.read()\n",
        "        print(\"File content:\")\n",
        "        print(content)\n",
        "except FileNotFoundError as e:\n",
        "    logging.error(f\"FileNotFoundError: {e}\")\n",
        "    print(f\"Error: The file '{filename}' was not found.\")\n",
        "except PermissionError as e:\n",
        "    logging.error(f\"PermissionError: {e}\")\n",
        "    print(f\"Error: Permission denied for file '{filename}'.\")\n",
        "except Exception as e:\n",
        "    logging.error(f\"Unexpected error: {e}\")\n",
        "    print(\"An unexpected error occurred while handling the file.\")\n"
      ],
      "metadata": {
        "colab": {
          "base_uri": "https://localhost:8080/"
        },
        "id": "KQxVSGGqY7GA",
        "outputId": "c77a728f-55c7-4da2-f1ed-507bf517962f"
      },
      "execution_count": 27,
      "outputs": [
        {
          "output_type": "stream",
          "name": "stderr",
          "text": [
            "ERROR:root:FileNotFoundError: [Errno 2] No such file or directory: 'non_existent_file.txt'\n"
          ]
        },
        {
          "output_type": "stream",
          "name": "stdout",
          "text": [
            "Error: The file 'non_existent_file.txt' was not found.\n"
          ]
        }
      ]
    }
  ]
}